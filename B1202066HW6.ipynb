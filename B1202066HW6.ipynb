{
  "nbformat": 4,
  "nbformat_minor": 0,
  "metadata": {
    "colab": {
      "provenance": []
    },
    "kernelspec": {
      "name": "python3",
      "display_name": "Python 3"
    },
    "language_info": {
      "name": "python"
    }
  },
  "cells": [
    {
      "cell_type": "code",
      "execution_count": 10,
      "metadata": {
        "colab": {
          "base_uri": "https://localhost:8080/"
        },
        "id": "gR00axiTaCYs",
        "outputId": "2b550daa-a29f-4acd-8340-9a7ccb97777e"
      },
      "outputs": [
        {
          "output_type": "stream",
          "name": "stdout",
          "text": [
            "10\n",
            "         *\n",
            "        ***\n",
            "       *****\n",
            "      *******\n",
            "     *********\n",
            "    ***********\n",
            "   *************\n",
            "  ***************\n",
            " *****************\n",
            "*******************\n",
            "        ***\n",
            "        ***\n",
            "        ***\n",
            "        ***\n",
            "        ***\n"
          ]
        }
      ],
      "source": [
        "def tree(n):\n",
        "  for i in range(1,n+1):\n",
        "    for k in range(1,n+1-i):\n",
        "      print(' ',end='')\n",
        "    for j in range(1,2*i):\n",
        "      print('*',end='')\n",
        "    print('')\n",
        "  for a in range(1,6):\n",
        "    for b in range(1,n-1):\n",
        "      print(' ',end='')\n",
        "    for c in range(1,4):\n",
        "      print('*',end='')\n",
        "    print('')\n",
        "n=int(input())\n",
        "tree(n)"
      ]
    },
    {
      "cell_type": "code",
      "source": [
        "def bmi(h,w):\n",
        "  try:\n",
        "    h=float(h)/100\n",
        "    h *= h\n",
        "    b=float(w)/h\n",
        "    return b\n",
        "  except:\n",
        "    return '輸入內容錯誤'\n",
        "\n",
        "h,w=input(\"請輸入身高（公分）\"), input(\"請輸入體重（公斤）\")\n",
        "print('身高（公分）:',h)\n",
        "print('體重（公斤）:',w)\n",
        "result=bmi(h,w)\n",
        "print('BMI:',result)\n",
        "if result!='輸入內容錯誤':\n",
        "  if result<18.5:\n",
        "    print('體位：過輕')\n",
        "  elif result<24:\n",
        "    print('體位：適中')\n",
        "  elif result<27:\n",
        "    print('體位：過重')\n",
        "  else:\n",
        "    print('體位：肥胖')"
      ],
      "metadata": {
        "colab": {
          "base_uri": "https://localhost:8080/"
        },
        "id": "7EXpDz3uc1GK",
        "outputId": "34184bda-59ce-44c1-c05b-e205038aa38a"
      },
      "execution_count": 9,
      "outputs": [
        {
          "output_type": "stream",
          "name": "stdout",
          "text": [
            "請輸入身高（公分）175\n",
            "請輸入體重（公斤）p\n",
            "身高（公分）: 175\n",
            "體重（公斤）: p\n",
            "BMI: 輸入內容錯誤\n"
          ]
        }
      ]
    }
  ]
}